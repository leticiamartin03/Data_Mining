{
 "cells": [
  {
   "cell_type": "markdown",
   "metadata": {},
   "source": [
    "# Practice Session 03: Find near-duplicates using shingling"
   ]
  },
  {
   "cell_type": "markdown",
   "metadata": {},
   "source": [
    "Author: <font color=\"blue\">Leticia Martín Cabrera</font>\n",
    "\n",
    "E-mail: <font color=\"blue\">leticia.martin03@estudiant.upf.edu</font>\n",
    "\n",
    "Date: <font color=\"blue\">02/11/2021</font>"
   ]
  },
  {
   "cell_type": "code",
   "execution_count": 2,
   "metadata": {},
   "outputs": [],
   "source": [
    "import io\n",
    "import json\n",
    "import gzip\n",
    "import re\n",
    "import random\n",
    "import numpy as np\n",
    "import matplotlib.pyplot as plt\n",
    "from timeit import default_timer as timer\n",
    "import datetime"
   ]
  },
  {
   "cell_type": "code",
   "execution_count": 3,
   "metadata": {},
   "outputs": [
    {
     "name": "stdout",
     "output_type": "stream",
     "text": [
      "Read 10000 documents\n"
     ]
    }
   ],
   "source": [
    "# Input file\n",
    "INPUT_FILENAME = \"CovidLockdownCatalonia.json.gz\"\n",
    "\n",
    "# Array for storing messages\n",
    "messages = []\n",
    "MAX_MESSAGES = 10000\n",
    "\n",
    "with gzip.open(INPUT_FILENAME, \"rt\", encoding=\"utf-8\") as input_file:\n",
    "    \n",
    "    messages_read = 0\n",
    "    for line in input_file:\n",
    "            \n",
    "        # Read message\n",
    "        tweet = json.loads(line)\n",
    "\n",
    "        # Keep only messages in Catalan\n",
    "        if tweet[\"lang\"] == \"ca\":\n",
    "            \n",
    "            messages_read += 1\n",
    "            \n",
    "            if messages_read <= MAX_MESSAGES:\n",
    "                author = tweet[\"user\"][\"screen_name\"]\n",
    "                message = tweet[\"full_text\"]\n",
    "                messages.append(message)\n",
    "\n",
    "print(\"Read %d documents\" % len(messages))"
   ]
  },
  {
   "cell_type": "markdown",
   "metadata": {},
   "source": [
    "# 1. Auxiliary functions"
   ]
  },
  {
   "cell_type": "code",
   "execution_count": 4,
   "metadata": {},
   "outputs": [],
   "source": [
    "def jaccard_similarity(x,y):\n",
    "    set1 = set(x)\n",
    "    set2 = set(y)\n",
    "    union = set1.union(set2)\n",
    "    intersection = set1.intersection(set2)\n",
    "    if len(union) == 0:\n",
    "        return 0.0\n",
    "    else:\n",
    "        return len(intersection)/len(union)\n",
    "    \n"
   ]
  },
  {
   "cell_type": "code",
   "execution_count": 5,
   "metadata": {},
   "outputs": [
    {
     "name": "stdout",
     "output_type": "stream",
     "text": [
      "First test: 0.0\n",
      "Second test: 0.3333333333333333\n",
      "Third test: 1.0\n",
      "Forth test: 0.0\n"
     ]
    }
   ],
   "source": [
    "array1 = [0,0,0]\n",
    "array2 = [0,0,0]\n",
    "array3 = [0,2,3]\n",
    "array4 = []\n",
    "array5 = []\n",
    "\n",
    "print(\"First test:\", jaccard_similarity(array1,array4))\n",
    "print(\"Second test:\",jaccard_similarity(array2,array3))\n",
    "print(\"Third test:\",jaccard_similarity(array1,array2))\n",
    "print(\"Forth test:\",jaccard_similarity(array4,array5))\n"
   ]
  },
  {
   "cell_type": "code",
   "execution_count": 6,
   "metadata": {},
   "outputs": [],
   "source": [
    "import unicodedata\n",
    "def clean(text):\n",
    "    text = text.lower()\n",
    "    text =  re.sub(r'(https|http)?:\\/\\/(\\w|\\.|\\/|\\?|\\=|\\&|\\%)*\\b', '', text, flags=re.MULTILINE)\n",
    "    for c in text:\n",
    "        if not c.isalnum() and c != \" \":\n",
    "            text = text.replace(c, \"\")\n",
    "    result = str(unicodedata.normalize('NFKD', text).encode('ASCII', 'ignore'))[2:-1]\n",
    "    return result\n"
   ]
  },
  {
   "cell_type": "code",
   "execution_count": 7,
   "metadata": {},
   "outputs": [
    {
     "name": "stdout",
     "output_type": "stream",
     "text": [
      "rt inigo1987 i am inigo montoya \n"
     ]
    }
   ],
   "source": [
    "text = \"RT @Inigo_1987: I am Íñigo Montoya! https://t.co/aaa\"\n",
    "\n",
    "print(clean(text))"
   ]
  },
  {
   "cell_type": "markdown",
   "metadata": {},
   "source": [
    "# 2. Implement an n-gram extractor"
   ]
  },
  {
   "cell_type": "code",
   "execution_count": 8,
   "metadata": {},
   "outputs": [],
   "source": [
    "MIN_TOKEN_LENGTH = 2\n",
    "\n",
    "def ngrams(text, size):\n",
    "    tokens = clean(text).split()\n",
    "    for word in tokens:\n",
    "        if len(word) < MIN_TOKEN_LENGTH:\n",
    "            tokens.remove(word)\n",
    "    ngrams = []\n",
    "    for i in range(len(tokens)-size+1):\n",
    "        new = tokens[i:i+size]\n",
    "        ngrams.append(\" \".join(new))\n",
    "    return ngrams\n"
   ]
  },
  {
   "cell_type": "code",
   "execution_count": 9,
   "metadata": {},
   "outputs": [
    {
     "name": "stdout",
     "output_type": "stream",
     "text": [
      "RT @diariARA: Comerciants xinesos donen mascaretes i gel antisèptic a Badalona per lluitar contra el coronavirus https://t.co/ybYXFxphIu\n",
      "['rt diariara', 'diariara comerciants', 'comerciants xinesos', 'xinesos donen', 'donen mascaretes', 'mascaretes gel', 'gel antiseptic', 'antiseptic badalona', 'badalona per', 'per lluitar', 'lluitar contra', 'contra el', 'el coronavirus']\n"
     ]
    }
   ],
   "source": [
    "print(messages[9780])\n",
    "print(ngrams(messages[9780], 2))"
   ]
  },
  {
   "cell_type": "markdown",
   "metadata": {},
   "source": [
    "# 3. Estimation for brute force method"
   ]
  },
  {
   "cell_type": "code",
   "execution_count": 10,
   "metadata": {},
   "outputs": [],
   "source": [
    "# Leave this code as-is\n",
    "\n",
    "def time_brute_force_similarities(messages, limit, ngram_size):\n",
    "    if limit > len(messages):\n",
    "        raise ValueError(\"Limit should be less than or equal than the number of messages\")\n",
    "        \n",
    "    # Start a timer\n",
    "    start = timer()\n",
    "\n",
    "    # Iterate through document identifiers\n",
    "    for docid1 in range(np.min([len(messages), limit])):\n",
    "\n",
    "        # Clean document 1 and extract ngrams\n",
    "        doc1 = clean(messages[docid1])\n",
    "        ngrams1 = ngrams(doc1, ngram_size)\n",
    "\n",
    "        # Iterate through document identifiers larger than doc2\n",
    "        for docid2 in range(docid1+1, np.min([len(messages), limit])):\n",
    "                         \n",
    "            # Clean document 2 and extract ngrams\n",
    "            doc2 = clean(messages[docid2])\n",
    "            ngrams2 = ngrams(doc2, ngram_size)\n",
    "\n",
    "            # Compute similarity\n",
    "            similarity = jaccard_similarity(ngrams1, ngrams2)\n",
    "\n",
    "    end = timer()\n",
    "    return(end - start)"
   ]
  },
  {
   "cell_type": "code",
   "execution_count": 11,
   "metadata": {},
   "outputs": [
    {
     "data": {
      "text/plain": [
       "Text(0, 0.5, 'Time to check the messages')"
      ]
     },
     "execution_count": 11,
     "metadata": {},
     "output_type": "execute_result"
    },
    {
     "data": {
      "image/png": "[encoded data removed]",
      "text/plain": [
       "<Figure size 432x288 with 1 Axes>"
      ]
     },
     "metadata": {
      "needs_background": "light"
     },
     "output_type": "display_data"
    }
   ],
   "source": [
    "num_messages = np.arange(1,2001,150)\n",
    "time = []\n",
    "for i in num_messages:\n",
    "    time.append(time_brute_force_similarities(messages, i, 3))\n",
    "plt.plot(num_messages, time)\n",
    "plt.xlabel(\"Number of messages to check\")\n",
    "plt.ylabel(\"Time to check the messages\")"
   ]
  },
  {
   "cell_type": "markdown",
   "metadata": {},
   "source": [
    "We can see that the plot follows an exponential distribution, as the number of messages to check increases, the time it takes to check them increases."
   ]
  },
  {
   "cell_type": "code",
   "execution_count": 12,
   "metadata": {},
   "outputs": [
    {
     "name": "stdout",
     "output_type": "stream",
     "text": [
      "Running the brute force similarity computations would take: \n",
      " 8311.590175000003 seconds\n",
      " 138.52650291666671 minutes\n",
      " 2.308775048611112 hours\n"
     ]
    }
   ],
   "source": [
    "#We assume that the time to do all compararisons (10000 messagesx10000messages) is proportional to the one of doing 2000x2000 comparisons\n",
    "total_time = (10000**2)*time[-1]/2000**2  #time in seconds\n",
    "minutes = total_time/60 \n",
    "hours = total_time/3600\n",
    "print(\"Running the brute force similarity computations would take: \\n\",total_time, \"seconds\\n\",minutes, \"minutes\\n\",hours,\"hours\")"
   ]
  },
  {
   "cell_type": "markdown",
   "metadata": {},
   "source": [
    "# 4. Computing the doc-ngram matrix"
   ]
  },
  {
   "cell_type": "markdown",
   "metadata": {},
   "source": [
    "## 4.1 Create list of all ngrams"
   ]
  },
  {
   "cell_type": "code",
   "execution_count": 13,
   "metadata": {},
   "outputs": [
    {
     "name": "stdout",
     "output_type": "stream",
     "text": [
      "There are 70408 distinct ngrams in the 10000 documents\n"
     ]
    }
   ],
   "source": [
    "NGRAM_SIZE = 3\n",
    "\n",
    "ngram_to_index = {}\n",
    "index_to_ngram = {}\n",
    "next_index = 0\n",
    "\n",
    "\n",
    "for message in messages:\n",
    "    all_ngrams = ngrams(message, NGRAM_SIZE)\n",
    "    for ngram in all_ngrams:\n",
    "        if ngram not in ngram_to_index.keys():\n",
    "            ngram_to_index[ngram] = next_index\n",
    "            index_to_ngram[next_index] = ngram\n",
    "            next_index += 1\n",
    "\n",
    "num_distinct_ngrams = next_index\n",
    "\n",
    "print(\"There are %d distinct ngrams in the %d documents\" % (num_distinct_ngrams, len(messages)))"
   ]
  },
  {
   "cell_type": "code",
   "execution_count": 14,
   "metadata": {
    "scrolled": true
   },
   "outputs": [
    {
     "name": "stdout",
     "output_type": "stream",
     "text": [
      "The index of 'tancar escoles fins' ngram in the dictionary is:  991\n",
      "The index 991 corresponds to:  tancat escoles fins\n"
     ]
    }
   ],
   "source": [
    "print(\"The index of 'tancar escoles fins' ngram in the dictionary is: \",ngram_to_index[\"tancat escoles fins\"])\n",
    "print(\"The index\",ngram_to_index[\"tancat escoles fins\"] ,\"corresponds to: \" ,index_to_ngram[ngram_to_index[\"tancat escoles fins\"]])"
   ]
  },
  {
   "cell_type": "markdown",
   "metadata": {},
   "source": [
    "## 4.2 Create table ngrams x documents"
   ]
  },
  {
   "cell_type": "code",
   "execution_count": 15,
   "metadata": {},
   "outputs": [
    {
     "name": "stdout",
     "output_type": "stream",
     "text": [
      "Rows: 70408 (distinct shingles)\n",
      "Columns: 10000 (distinct documents)\n"
     ]
    }
   ],
   "source": [
    "# Leave this code as-is\n",
    "\n",
    "# Create matrix filled with boolean False\n",
    "M_ngram_doc = np.full((num_distinct_ngrams, len(messages)), False)\n",
    "\n",
    "# Print number of rows and columns\n",
    "print(\"Rows: %d (distinct shingles)\" % len(M_ngram_doc))\n",
    "print(\"Columns: %d (distinct documents)\" % len(M_ngram_doc[0]))"
   ]
  },
  {
   "cell_type": "code",
   "execution_count": 16,
   "metadata": {},
   "outputs": [],
   "source": [
    "for docid in range(len(messages)):\n",
    "    message = messages[docid]\n",
    "    all_ngrams = ngrams(message, NGRAM_SIZE)\n",
    "    for ngram in all_ngrams:\n",
    "        index = ngram_to_index[ngram]\n",
    "        M_ngram_doc[index][docid] = True"
   ]
  },
  {
   "cell_type": "code",
   "execution_count": 17,
   "metadata": {},
   "outputs": [
    {
     "name": "stdout",
     "output_type": "stream",
     "text": [
      "Positions of non-zeros in column of docid 9602 of M_ngram_doc\n",
      "Clean message:\n",
      " rt emergenciescat que puc fer i que no faqs del coronavirus a 14 de marc si us plau demanem difusio \n",
      "Non-zeros in corresponding row:  ['690 (rt emergenciescat que)', '963 (si us plau)', '1284 (emergenciescat que puc)', '1285 (que puc fer)', '1286 (puc fer que)', '1287 (fer que no)', '2702 (14 de marc)', '41028 (que no faqs)', '41029 (no faqs del)', '41030 (faqs del coronavirus)', '41031 (del coronavirus 14)', '41032 (coronavirus 14 de)', '41033 (de marc si)', '41034 (marc si us)', '41035 (us plau demanem)', '41036 (plau demanem difusio)']\n"
     ]
    }
   ],
   "source": [
    "non_zeros_9602 = []\n",
    "for i in range(len(M_ngram_doc[:,9602])):\n",
    "    new = \"\" \n",
    "    if  M_ngram_doc[i,9602]:\n",
    "        new = str(i) + \" (\"+ str(index_to_ngram[i]) +\")\"\n",
    "        non_zeros_9602.append(new)\n",
    "\n",
    "print(\"Positions of non-zeros in column of docid 9602 of M_ngram_doc\")\n",
    "print(\"Clean message:\\n\", clean(messages[9602]) )        \n",
    "print(\"Non-zeros in corresponding row: \", non_zeros_9602)\n"
   ]
  },
  {
   "cell_type": "code",
   "execution_count": 18,
   "metadata": {},
   "outputs": [
    {
     "name": "stdout",
     "output_type": "stream",
     "text": [
      "Positions of non-zeros in column of docid 941 of M_ngram_doc\n",
      "Clean message:\n",
      " rt hospiolot usem de forma responsable els recursos sanitaris061 urgencies per coronavirus i sanitaries012 consultes general\n",
      "Non-zeros in corresponding row:  ['1552 (usem de forma)', '1553 (de forma responsable)', '1554 (forma responsable els)', '1555 (responsable els recursos)', '1556 (els recursos sanitaris061)', '1557 (recursos sanitaris061 urgencies)', '1558 (sanitaris061 urgencies per)', '1559 (urgencies per coronavirus)', '1560 (per coronavirus sanitaries012)', '1561 (coronavirus sanitaries012 consultes)', '10786 (rt hospiolot usem)', '10787 (hospiolot usem de)', '10788 (sanitaries012 consultes general)']\n"
     ]
    }
   ],
   "source": [
    "non_zeros_941 = []\n",
    "for i in range(len(M_ngram_doc[:,941])):\n",
    "    new = \"\" \n",
    "    if  M_ngram_doc[i,941]:\n",
    "        new = str(i) + \" (\"+ str(index_to_ngram[i]) +\")\"\n",
    "        non_zeros_941.append(new)\n",
    "\n",
    "print(\"Positions of non-zeros in column of docid 941 of M_ngram_doc\")\n",
    "print(\"Clean message:\\n\", clean(messages[941]) )        \n",
    "print(\"Non-zeros in corresponding row: \", non_zeros_941)"
   ]
  },
  {
   "cell_type": "markdown",
   "metadata": {},
   "source": [
    "# 5. Implement a permutation generator"
   ]
  },
  {
   "cell_type": "code",
   "execution_count": 19,
   "metadata": {},
   "outputs": [
    {
     "name": "stdout",
     "output_type": "stream",
     "text": [
      "[13 14 19 11  3 18  7  9  5 15  0  6  8 16 12  1 17 10  4  2]\n"
     ]
    }
   ],
   "source": [
    "def random_permutation(k):\n",
    "    array = np.arange(k)\n",
    "    random.shuffle(array)\n",
    "    return array\n",
    "\n",
    "print(random_permutation(20))"
   ]
  },
  {
   "cell_type": "code",
   "execution_count": 20,
   "metadata": {},
   "outputs": [
    {
     "name": "stdout",
     "output_type": "stream",
     "text": [
      "Test one permutation:\n",
      "['d', 'a', 'b', 'e', 'c']\n",
      "['delta', 'alpha', 'beta', 'epsilon', 'gamma']\n",
      "\n",
      "Test another permutation\n",
      "['d', 'a', 'b', 'e', 'c']\n",
      "['delta', 'alpha', 'beta', 'epsilon', 'gamma']\n"
     ]
    }
   ],
   "source": [
    "# Leave this code as-is\n",
    "\n",
    "# Permute a list according to a permutation\n",
    "def permuter(original_list, permutation):\n",
    "    permuted_list = []\n",
    "    for index in permutation:\n",
    "        permuted_list.append(original_list[index])\n",
    "    return permuted_list\n",
    "\n",
    "# Code for testing permutations\n",
    "original_list_1 = [\"a\", \"b\", \"c\", \"d\", \"e\"]\n",
    "original_list_2 = [\"alpha\", \"beta\", \"gamma\", \"delta\", \"epsilon\"]\n",
    "\n",
    "print(\"Test one permutation:\")\n",
    "permutation_1 = random_permutation(5)\n",
    "print(permuter(original_list_1, permutation_1))\n",
    "print(permuter(original_list_2, permutation_1))\n",
    "\n",
    "print()\n",
    "\n",
    "print(\"Test another permutation\")\n",
    "permutation_2 = random_permutation(5)\n",
    "print(permuter(original_list_1, permutation_2))\n",
    "print(permuter(original_list_2, permutation_2))"
   ]
  },
  {
   "cell_type": "markdown",
   "metadata": {},
   "source": [
    "# 6. Compute the signature of each document"
   ]
  },
  {
   "cell_type": "code",
   "execution_count": 21,
   "metadata": {},
   "outputs": [
    {
     "name": "stdout",
     "output_type": "stream",
     "text": [
      "Permutation 0: 9825, 30552, 48929, ...\n",
      "Permutation 1: 55418, 44416, 45489, ...\n",
      "Permutation 2: 18350, 30541, 62369, ...\n",
      "Permutation 3: 38562, 46159, 29021, ...\n"
     ]
    }
   ],
   "source": [
    "# Leave this code as-is\n",
    "\n",
    "NUM_PERMUTATIONS = 4\n",
    "\n",
    "permutations = []\n",
    "\n",
    "# Create the permutations\n",
    "for i in range(NUM_PERMUTATIONS):\n",
    "    permutation = random_permutation(num_distinct_ngrams)\n",
    "    permutations.append(random_permutation(num_distinct_ngrams))\n",
    "    \n",
    "# Visualize the permutations by printing their first 3 elements\n",
    "for i in range(len(permutations)):\n",
    "    permutation = permutations[i]\n",
    "    print(\"Permutation %d: %d, %d, %d, ...\" % (i, permutation[0], permutation[1], permutation[2] ))"
   ]
  },
  {
   "cell_type": "code",
   "execution_count": 22,
   "metadata": {},
   "outputs": [
    {
     "name": "stdout",
     "output_type": "stream",
     "text": [
      "Creating signatures for permutation 1/4\n",
      "- Scanning document 0 of 10000\n",
      "- Scanning document 1000 of 10000\n",
      "- Scanning document 2000 of 10000\n",
      "- Scanning document 3000 of 10000\n",
      "- Scanning document 4000 of 10000\n",
      "- Scanning document 5000 of 10000\n",
      "- Scanning document 6000 of 10000\n",
      "- Scanning document 7000 of 10000\n",
      "- Scanning document 8000 of 10000\n",
      "- Scanning document 9000 of 10000\n",
      "Creating signatures for permutation 2/4\n",
      "- Scanning document 0 of 10000\n",
      "- Scanning document 1000 of 10000\n",
      "- Scanning document 2000 of 10000\n",
      "- Scanning document 3000 of 10000\n",
      "- Scanning document 4000 of 10000\n",
      "- Scanning document 5000 of 10000\n",
      "- Scanning document 6000 of 10000\n",
      "- Scanning document 7000 of 10000\n",
      "- Scanning document 8000 of 10000\n",
      "- Scanning document 9000 of 10000\n",
      "Creating signatures for permutation 3/4\n",
      "- Scanning document 0 of 10000\n",
      "- Scanning document 1000 of 10000\n",
      "- Scanning document 2000 of 10000\n",
      "- Scanning document 3000 of 10000\n",
      "- Scanning document 4000 of 10000\n",
      "- Scanning document 5000 of 10000\n",
      "- Scanning document 6000 of 10000\n",
      "- Scanning document 7000 of 10000\n",
      "- Scanning document 8000 of 10000\n",
      "- Scanning document 9000 of 10000\n",
      "Creating signatures for permutation 4/4\n",
      "- Scanning document 0 of 10000\n",
      "- Scanning document 1000 of 10000\n",
      "- Scanning document 2000 of 10000\n",
      "- Scanning document 3000 of 10000\n",
      "- Scanning document 4000 of 10000\n",
      "- Scanning document 5000 of 10000\n",
      "- Scanning document 6000 of 10000\n",
      "- Scanning document 7000 of 10000\n",
      "- Scanning document 8000 of 10000\n",
      "- Scanning document 9000 of 10000\n"
     ]
    }
   ],
   "source": [
    "M_signature_doc = np.full((NUM_PERMUTATIONS, len(messages)), np.nan)\n",
    "\n",
    "# Find the first ngram in a document, according to a permutation\n",
    "def find_first_one(docid, permutation):\n",
    "    for shingle_id in permutation:\n",
    "        if M_ngram_doc[shingle_id, docid] == True:\n",
    "            return shingle_id\n",
    "    return -1\n",
    "\n",
    "# Create permutations\n",
    "for permutation_num in range(NUM_PERMUTATIONS):\n",
    "    print(\"Creating signatures for permutation %d/%d\" % (permutation_num+1, NUM_PERMUTATIONS))\n",
    "    permutation = permutations[permutation_num]\n",
    "    for docid in range(len(messages)):\n",
    "        if docid % 1000 == 0:\n",
    "            print(\"- Scanning document %d of %d\" % (docid, len(messages)))\n",
    "        M_signature_doc[permutation_num,docid] = find_first_one(docid,permutation)"
   ]
  },
  {
   "cell_type": "code",
   "execution_count": 23,
   "metadata": {},
   "outputs": [
    {
     "name": "stdout",
     "output_type": "stream",
     "text": [
      "Document #84\n",
      "Message       : RT @emergenciescat: ⚠️ Es demana a la ciutadania limitar al màxim i, si es pot, EVITAR DESPLAÇAMENTS de cap de setmana. Tot el que sigui ma…\n",
      "Clean message : rt emergenciescat  es demana a la ciutadania limitar al maxim i si es pot evitar desplacaments de cap de setmana tot el que sigui ma\n",
      "Ngrams        : [277, 278, 279, 280, 281, 282, 283, 284, 285, 286, 287, 288, 289, 290, 291, 292, 293, 294, 295, 296, 297]\n",
      "Signature     : [288.0, 285.0, 296.0, 283.0]\n",
      "\n",
      "Document #6586\n",
      "Message       : RT @emergenciescat: ⚠️ Es demana a la ciutadania limitar al màxim i, si es pot, EVITAR DESPLAÇAMENTS de cap de setmana. Tot el que sigui ma…\n",
      "Clean message : rt emergenciescat  es demana a la ciutadania limitar al maxim i si es pot evitar desplacaments de cap de setmana tot el que sigui ma\n",
      "Ngrams        : [277, 278, 279, 280, 281, 282, 283, 284, 285, 286, 287, 288, 289, 290, 291, 292, 293, 294, 295, 296, 297]\n",
      "Signature     : [288.0, 285.0, 296.0, 283.0]\n"
     ]
    }
   ],
   "source": [
    "# Leave this code as-is\n",
    "\n",
    "def extract_ngrams(docid):\n",
    "    return [x for x in range(num_distinct_ngrams) if M_ngram_doc[x, docid] == True]\n",
    "\n",
    "def extract_signature(docid):\n",
    "    return [M_signature_doc[x, docid] for x in range(NUM_PERMUTATIONS)]\n",
    "\n",
    "def print_sig(messages, M_ngram_doc, M_signature_doc, docid):\n",
    "    print(\"Document #%d\" % docid)\n",
    "    print(\"Message       : %s\" % messages[i])\n",
    "    print(\"Clean message : %s\" % clean(messages[i]))\n",
    "    print(\"Ngrams        : %s\" % extract_ngrams(i))\n",
    "    print(\"Signature     : %s\" % extract_signature(i))\n",
    "\n",
    "        \n",
    "i = 84\n",
    "j = 6586\n",
    "\n",
    "print_sig(messages, M_ngram_doc, M_signature_doc, i )\n",
    "\n",
    "print()\n",
    "\n",
    "print_sig(messages, M_ngram_doc, M_signature_doc, j )"
   ]
  },
  {
   "cell_type": "markdown",
   "metadata": {},
   "source": [
    "# 7. Compare all pairs of signatures"
   ]
  },
  {
   "cell_type": "code",
   "execution_count": 24,
   "metadata": {},
   "outputs": [
    {
     "name": "stdout",
     "output_type": "stream",
     "text": [
      "0/10000 documents scanned\n",
      "Document 16 :  89  Full matches  0 Partial matches\n",
      "Document 42 :  46  Full matches  6 Partial matches\n",
      "Document 53 :  57  Full matches  0 Partial matches\n",
      "Document 84 :  88  Full matches  0 Partial matches\n",
      "Document 85 :  45  Full matches  6 Partial matches\n",
      "Document 166 :  56  Full matches  0 Partial matches\n",
      "Document 167 :  55  Full matches  0 Partial matches\n",
      "Document 168 :  54  Full matches  0 Partial matches\n",
      "Document 172 :  53  Full matches  0 Partial matches\n",
      "Document 174 :  52  Full matches  0 Partial matches\n",
      "Document 176 :  51  Full matches  0 Partial matches\n",
      "Document 307 :  87  Full matches  0 Partial matches\n",
      "Document 328 :  65  Full matches  0 Partial matches\n",
      "Document 331 :  64  Full matches  0 Partial matches\n",
      "Document 412 :  63  Full matches  0 Partial matches\n",
      "Document 425 :  86  Full matches  0 Partial matches\n",
      "Document 448 :  62  Full matches  0 Partial matches\n",
      "500/10000 documents scanned\n",
      "Document 578 :  56  Full matches  0 Partial matches\n",
      "Document 587 :  55  Full matches  0 Partial matches\n",
      "Document 620 :  85  Full matches  0 Partial matches\n",
      "Document 627 :  0  Full matches  66 Partial matches\n",
      "Document 688 :  84  Full matches  0 Partial matches\n",
      "Document 743 :  54  Full matches  0 Partial matches\n",
      "Document 793 :  61  Full matches  0 Partial matches\n",
      "Document 851 :  83  Full matches  0 Partial matches\n",
      "Document 939 :  82  Full matches  0 Partial matches\n",
      "Document 964 :  53  Full matches  0 Partial matches\n",
      "Document 982 :  60  Full matches  0 Partial matches\n",
      "Document 991 :  59  Full matches  0 Partial matches\n",
      "Document 992 :  58  Full matches  0 Partial matches\n",
      "Document 998 :  52  Full matches  0 Partial matches\n",
      "1000/10000 documents scanned\n",
      "Document 1009 :  57  Full matches  0 Partial matches\n",
      "Document 1030 :  81  Full matches  0 Partial matches\n",
      "Document 1035 :  80  Full matches  0 Partial matches\n",
      "Document 1069 :  79  Full matches  0 Partial matches\n",
      "Document 1119 :  78  Full matches  0 Partial matches\n",
      "Document 1174 :  77  Full matches  0 Partial matches\n",
      "Document 1213 :  76  Full matches  0 Partial matches\n",
      "Document 1221 :  75  Full matches  0 Partial matches\n",
      "Document 1231 :  51  Full matches  0 Partial matches\n",
      "Document 1401 :  74  Full matches  0 Partial matches\n",
      "Document 1432 :  73  Full matches  0 Partial matches\n",
      "Document 1474 :  56  Full matches  0 Partial matches\n",
      "1500/10000 documents scanned\n",
      "Document 1504 :  55  Full matches  0 Partial matches\n",
      "Document 1510 :  72  Full matches  0 Partial matches\n",
      "Document 1644 :  54  Full matches  0 Partial matches\n",
      "Document 1772 :  71  Full matches  0 Partial matches\n",
      "Document 1849 :  70  Full matches  0 Partial matches\n",
      "Document 1859 :  69  Full matches  0 Partial matches\n",
      "Document 1901 :  68  Full matches  0 Partial matches\n",
      "Document 1907 :  67  Full matches  0 Partial matches\n",
      "Document 1923 :  66  Full matches  0 Partial matches\n",
      "Document 1971 :  65  Full matches  0 Partial matches\n",
      "Document 1975 :  64  Full matches  0 Partial matches\n",
      "2000/10000 documents scanned\n",
      "Document 2051 :  63  Full matches  0 Partial matches\n",
      "Document 2059 :  62  Full matches  0 Partial matches\n",
      "Document 2062 :  61  Full matches  0 Partial matches\n",
      "Document 2103 :  60  Full matches  0 Partial matches\n",
      "Document 2148 :  59  Full matches  0 Partial matches\n",
      "Document 2180 :  53  Full matches  0 Partial matches\n",
      "Document 2181 :  52  Full matches  0 Partial matches\n",
      "Document 2183 :  51  Full matches  0 Partial matches\n",
      "Document 2199 :  58  Full matches  0 Partial matches\n",
      "Document 2205 :  57  Full matches  0 Partial matches\n",
      "Document 2206 :  56  Full matches  0 Partial matches\n",
      "Document 2209 :  55  Full matches  0 Partial matches\n",
      "Document 2359 :  54  Full matches  0 Partial matches\n",
      "Document 2427 :  53  Full matches  0 Partial matches\n",
      "2500/10000 documents scanned\n",
      "Document 2514 :  52  Full matches  0 Partial matches\n",
      "Document 2517 :  51  Full matches  0 Partial matches\n",
      "3000/10000 documents scanned\n",
      "3500/10000 documents scanned\n",
      "4000/10000 documents scanned\n",
      "4500/10000 documents scanned\n",
      "5000/10000 documents scanned\n",
      "Document 5077 :  176  Full matches  0 Partial matches\n",
      "Document 5080 :  175  Full matches  0 Partial matches\n",
      "Document 5081 :  174  Full matches  0 Partial matches\n",
      "Document 5083 :  173  Full matches  0 Partial matches\n",
      "Document 5109 :  66  Full matches  0 Partial matches\n",
      "Document 5117 :  71  Full matches  0 Partial matches\n",
      "Document 5129 :  54  Full matches  0 Partial matches\n",
      "Document 5146 :  65  Full matches  0 Partial matches\n",
      "Document 5155 :  64  Full matches  0 Partial matches\n",
      "Document 5200 :  172  Full matches  0 Partial matches\n",
      "Document 5211 :  63  Full matches  0 Partial matches\n",
      "Document 5225 :  62  Full matches  0 Partial matches\n",
      "Document 5248 :  171  Full matches  0 Partial matches\n",
      "Document 5250 :  170  Full matches  0 Partial matches\n",
      "Document 5252 :  169  Full matches  0 Partial matches\n",
      "Document 5257 :  168  Full matches  0 Partial matches\n",
      "Document 5262 :  167  Full matches  0 Partial matches\n",
      "Document 5267 :  166  Full matches  0 Partial matches\n",
      "Document 5271 :  54  Full matches  0 Partial matches\n",
      "Document 5273 :  165  Full matches  0 Partial matches\n",
      "Document 5282 :  61  Full matches  0 Partial matches\n",
      "Document 5316 :  53  Full matches  0 Partial matches\n",
      "Document 5319 :  52  Full matches  0 Partial matches\n",
      "Document 5334 :  164  Full matches  0 Partial matches\n",
      "Document 5339 :  163  Full matches  0 Partial matches\n",
      "Document 5343 :  162  Full matches  0 Partial matches\n",
      "Document 5349 :  161  Full matches  0 Partial matches\n",
      "Document 5372 :  160  Full matches  0 Partial matches\n",
      "Document 5393 :  159  Full matches  0 Partial matches\n",
      "Document 5394 :  158  Full matches  0 Partial matches\n",
      "Document 5400 :  60  Full matches  0 Partial matches\n",
      "Document 5403 :  70  Full matches  0 Partial matches\n",
      "Document 5404 :  69  Full matches  0 Partial matches\n",
      "Document 5426 :  157  Full matches  0 Partial matches\n",
      "Document 5428 :  53  Full matches  0 Partial matches\n",
      "Document 5429 :  156  Full matches  0 Partial matches\n",
      "Document 5430 :  52  Full matches  0 Partial matches\n",
      "Document 5437 :  155  Full matches  0 Partial matches\n",
      "Document 5440 :  154  Full matches  0 Partial matches\n",
      "Document 5445 :  51  Full matches  0 Partial matches\n",
      "Document 5459 :  68  Full matches  0 Partial matches\n",
      "Document 5475 :  153  Full matches  0 Partial matches\n",
      "Document 5484 :  152  Full matches  0 Partial matches\n",
      "5500/10000 documents scanned\n",
      "Document 5509 :  151  Full matches  0 Partial matches\n",
      "Document 5515 :  150  Full matches  0 Partial matches\n",
      "Document 5517 :  149  Full matches  0 Partial matches\n",
      "Document 5520 :  148  Full matches  0 Partial matches\n",
      "Document 5522 :  59  Full matches  0 Partial matches\n",
      "Document 5525 :  58  Full matches  0 Partial matches\n",
      "Document 5532 :  57  Full matches  0 Partial matches\n",
      "Document 5539 :  56  Full matches  0 Partial matches\n",
      "Document 5542 :  67  Full matches  0 Partial matches\n",
      "Document 5558 :  55  Full matches  0 Partial matches\n",
      "Document 5561 :  147  Full matches  0 Partial matches\n",
      "Document 5564 :  54  Full matches  0 Partial matches\n",
      "Document 5579 :  53  Full matches  0 Partial matches\n",
      "Document 5583 :  51  Full matches  0 Partial matches\n",
      "Document 5589 :  52  Full matches  0 Partial matches\n",
      "Document 5592 :  66  Full matches  0 Partial matches\n",
      "Document 5612 :  51  Full matches  0 Partial matches\n",
      "Document 5619 :  65  Full matches  0 Partial matches\n",
      "Document 5636 :  80  Full matches  0 Partial matches\n",
      "Document 5642 :  64  Full matches  0 Partial matches\n",
      "Document 5646 :  63  Full matches  0 Partial matches\n",
      "Document 5648 :  62  Full matches  0 Partial matches\n",
      "Document 5662 :  61  Full matches  0 Partial matches\n",
      "Document 5664 :  60  Full matches  0 Partial matches\n",
      "Document 5698 :  79  Full matches  0 Partial matches\n",
      "Document 5700 :  78  Full matches  0 Partial matches\n",
      "Document 5725 :  77  Full matches  0 Partial matches\n",
      "Document 5733 :  76  Full matches  0 Partial matches\n",
      "Document 5740 :  75  Full matches  0 Partial matches\n",
      "Document 5751 :  146  Full matches  0 Partial matches\n",
      "Document 5762 :  74  Full matches  0 Partial matches\n",
      "Document 5784 :  145  Full matches  0 Partial matches\n",
      "Document 5787 :  144  Full matches  0 Partial matches\n",
      "Document 5818 :  59  Full matches  0 Partial matches\n",
      "Document 5822 :  143  Full matches  0 Partial matches\n",
      "Document 5858 :  142  Full matches  0 Partial matches\n",
      "Document 5885 :  141  Full matches  0 Partial matches\n",
      "Document 5891 :  140  Full matches  0 Partial matches\n",
      "Document 5892 :  139  Full matches  0 Partial matches\n",
      "Document 5901 :  138  Full matches  0 Partial matches\n",
      "Document 5902 :  137  Full matches  0 Partial matches\n",
      "Document 5917 :  136  Full matches  0 Partial matches\n",
      "Document 5918 :  58  Full matches  0 Partial matches\n",
      "Document 5957 :  57  Full matches  0 Partial matches\n",
      "Document 5960 :  56  Full matches  0 Partial matches\n",
      "Document 5968 :  73  Full matches  0 Partial matches\n",
      "Document 5998 :  55  Full matches  0 Partial matches\n",
      "6000/10000 documents scanned\n",
      "Document 6005 :  72  Full matches  0 Partial matches\n",
      "Document 6010 :  71  Full matches  0 Partial matches\n",
      "Document 6024 :  135  Full matches  0 Partial matches\n",
      "Document 6026 :  134  Full matches  0 Partial matches\n",
      "Document 6055 :  133  Full matches  0 Partial matches\n",
      "Document 6063 :  132  Full matches  0 Partial matches\n",
      "Document 6069 :  131  Full matches  0 Partial matches\n",
      "Document 6118 :  54  Full matches  0 Partial matches\n",
      "Document 6130 :  70  Full matches  0 Partial matches\n",
      "Document 6157 :  130  Full matches  0 Partial matches\n",
      "Document 6160 :  129  Full matches  0 Partial matches\n",
      "Document 6164 :  128  Full matches  0 Partial matches\n",
      "Document 6165 :  127  Full matches  0 Partial matches\n",
      "Document 6169 :  126  Full matches  0 Partial matches\n",
      "Document 6171 :  125  Full matches  0 Partial matches\n",
      "Document 6189 :  124  Full matches  0 Partial matches\n",
      "Document 6212 :  123  Full matches  0 Partial matches\n",
      "Document 6213 :  122  Full matches  0 Partial matches\n",
      "Document 6215 :  121  Full matches  0 Partial matches\n",
      "Document 6219 :  120  Full matches  0 Partial matches\n",
      "Document 6237 :  119  Full matches  0 Partial matches\n",
      "Document 6268 :  118  Full matches  0 Partial matches\n",
      "Document 6312 :  53  Full matches  0 Partial matches\n",
      "Document 6315 :  52  Full matches  0 Partial matches\n",
      "Document 6324 :  51  Full matches  0 Partial matches\n",
      "Document 6369 :  69  Full matches  0 Partial matches\n",
      "Document 6374 :  68  Full matches  0 Partial matches\n",
      "Document 6391 :  67  Full matches  0 Partial matches\n",
      "Document 6393 :  66  Full matches  0 Partial matches\n",
      "Document 6405 :  65  Full matches  0 Partial matches\n",
      "Document 6408 :  64  Full matches  0 Partial matches\n",
      "Document 6452 :  117  Full matches  0 Partial matches\n",
      "Document 6466 :  63  Full matches  0 Partial matches\n",
      "Document 6496 :  62  Full matches  0 Partial matches\n",
      "6500/10000 documents scanned\n",
      "Document 6510 :  61  Full matches  0 Partial matches\n",
      "Document 6511 :  60  Full matches  0 Partial matches\n",
      "Document 6517 :  59  Full matches  0 Partial matches\n",
      "Document 6636 :  116  Full matches  0 Partial matches\n",
      "Document 6698 :  115  Full matches  0 Partial matches\n",
      "Document 6734 :  114  Full matches  0 Partial matches\n",
      "Document 6738 :  113  Full matches  0 Partial matches\n",
      "Document 6739 :  112  Full matches  0 Partial matches\n",
      "Document 6760 :  111  Full matches  0 Partial matches\n",
      "Document 6761 :  110  Full matches  0 Partial matches\n",
      "Document 6770 :  109  Full matches  0 Partial matches\n",
      "Document 6774 :  108  Full matches  0 Partial matches\n",
      "Document 6780 :  107  Full matches  0 Partial matches\n",
      "Document 6786 :  106  Full matches  0 Partial matches\n",
      "Document 6787 :  105  Full matches  0 Partial matches\n",
      "Document 6824 :  104  Full matches  0 Partial matches\n",
      "Document 6854 :  103  Full matches  0 Partial matches\n",
      "Document 6909 :  102  Full matches  0 Partial matches\n",
      "Document 6943 :  101  Full matches  0 Partial matches\n",
      "Document 6996 :  58  Full matches  0 Partial matches\n",
      "Document 6997 :  57  Full matches  0 Partial matches\n",
      "7000/10000 documents scanned\n",
      "Document 7012 :  56  Full matches  0 Partial matches\n",
      "Document 7027 :  55  Full matches  0 Partial matches\n",
      "Document 7045 :  100  Full matches  0 Partial matches\n",
      "Document 7046 :  54  Full matches  0 Partial matches\n",
      "Document 7048 :  53  Full matches  0 Partial matches\n",
      "Document 7066 :  52  Full matches  0 Partial matches\n",
      "Document 7067 :  51  Full matches  0 Partial matches\n",
      "Document 7189 :  99  Full matches  0 Partial matches\n",
      "Document 7242 :  98  Full matches  0 Partial matches\n",
      "Document 7249 :  97  Full matches  0 Partial matches\n",
      "Document 7254 :  96  Full matches  0 Partial matches\n",
      "Document 7258 :  95  Full matches  0 Partial matches\n",
      "Document 7316 :  94  Full matches  0 Partial matches\n",
      "Document 7320 :  93  Full matches  0 Partial matches\n",
      "Document 7328 :  92  Full matches  0 Partial matches\n",
      "Document 7376 :  91  Full matches  0 Partial matches\n",
      "Document 7390 :  90  Full matches  0 Partial matches\n",
      "7500/10000 documents scanned\n",
      "Document 7511 :  89  Full matches  0 Partial matches\n",
      "Document 7530 :  88  Full matches  0 Partial matches\n",
      "Document 7531 :  87  Full matches  0 Partial matches\n",
      "Document 7532 :  86  Full matches  0 Partial matches\n",
      "Document 7533 :  85  Full matches  0 Partial matches\n",
      "Document 7539 :  84  Full matches  0 Partial matches\n",
      "Document 7554 :  83  Full matches  0 Partial matches\n",
      "Document 7600 :  82  Full matches  0 Partial matches\n",
      "Document 7672 :  81  Full matches  0 Partial matches\n",
      "Document 7702 :  80  Full matches  0 Partial matches\n",
      "Document 7711 :  79  Full matches  0 Partial matches\n",
      "Document 7838 :  78  Full matches  0 Partial matches\n",
      "Document 7884 :  77  Full matches  0 Partial matches\n",
      "Document 7929 :  76  Full matches  0 Partial matches\n",
      "Document 7931 :  75  Full matches  0 Partial matches\n",
      "Document 7958 :  74  Full matches  0 Partial matches\n",
      "8000/10000 documents scanned\n",
      "Document 8000 :  73  Full matches  0 Partial matches\n",
      "Document 8013 :  72  Full matches  0 Partial matches\n",
      "Document 8016 :  71  Full matches  0 Partial matches\n",
      "Document 8025 :  70  Full matches  0 Partial matches\n",
      "Document 8050 :  69  Full matches  0 Partial matches\n",
      "Document 8160 :  68  Full matches  0 Partial matches\n",
      "Document 8165 :  67  Full matches  0 Partial matches\n",
      "Document 8174 :  66  Full matches  0 Partial matches\n",
      "Document 8176 :  65  Full matches  0 Partial matches\n",
      "Document 8179 :  64  Full matches  0 Partial matches\n",
      "Document 8184 :  63  Full matches  0 Partial matches\n",
      "Document 8186 :  62  Full matches  0 Partial matches\n",
      "Document 8189 :  61  Full matches  0 Partial matches\n",
      "Document 8268 :  60  Full matches  0 Partial matches\n",
      "Document 8276 :  59  Full matches  0 Partial matches\n",
      "Document 8297 :  58  Full matches  0 Partial matches\n",
      "Document 8308 :  57  Full matches  0 Partial matches\n",
      "Document 8383 :  56  Full matches  0 Partial matches\n",
      "8500/10000 documents scanned\n",
      "Document 8513 :  55  Full matches  0 Partial matches\n",
      "Document 8560 :  54  Full matches  0 Partial matches\n",
      "Document 8585 :  53  Full matches  0 Partial matches\n",
      "Document 8662 :  52  Full matches  0 Partial matches\n",
      "Document 8664 :  51  Full matches  0 Partial matches\n",
      "9000/10000 documents scanned\n",
      "9500/10000 documents scanned\n"
     ]
    }
   ],
   "source": [
    "is_possible_duplicate = {}\n",
    "\n",
    "# Iterate through all documents\n",
    "for docid1 in range(len(messages)):\n",
    "\n",
    "     # Do not examine again a document that is a possible duplicate\n",
    "    if docid not in is_possible_duplicate:\n",
    "\n",
    "        # Counters for full and partial signature matches\n",
    "        count_sig_full_matches = 0\n",
    "        count_sig_partial_matches = 0\n",
    "\n",
    "        # Extract the signature of the doc1\n",
    "        signature1 = extract_signature(docid1)\n",
    "        if docid1 % 500 == 0:\n",
    "            print(\"%d/%d documents scanned\" % (docid1, len(messages)))\n",
    "\n",
    "        # Iterate through documents with docid larger than doc1\n",
    "        for docid2 in range(docid1+1, len(messages)):\n",
    "\n",
    "            # If this has not already been marked as duplicate of another document\n",
    "            if docid2 not in is_possible_duplicate:\n",
    "\n",
    "                # Extract signature of doc2\n",
    "                signature2 = extract_signature(docid2)\n",
    "\n",
    "                if jaccard_similarity(signature1, signature2) == 1:\n",
    "                    count_sig_full_matches += 1  #Increase count_sig_full_matches\n",
    "                    is_possible_duplicate[docid1] = docid2 #Include docid2 in is_possible_duplicate if needed\n",
    "                elif 0.2 < jaccard_similarity(signature1, signature2) < 1:\n",
    "                    count_sig_partial_matches += 1  #Increase count_sig_partial_matches\n",
    "                    is_possible_duplicate[docid1] = docid2   #Include docid2 in is_possible_duplicate if needed\n",
    "                \n",
    "\n",
    "        # REPLACE THIS COMMENT WITH YOUR CODE\n",
    "        # - If the number of partial matches plus full matches exceeds a threshold\n",
    "        #   print the document doc1 and indicate how many matches of each type it has\n",
    "        threshold = 50\n",
    "        if count_sig_full_matches + count_sig_partial_matches > threshold:\n",
    "            print(\"Document\", docid1,\": \", count_sig_full_matches,\" Full matches \", count_sig_partial_matches ,\"Partial matches\")\n",
    "         "
   ]
  },
  {
   "cell_type": "code",
   "execution_count": 25,
   "metadata": {},
   "outputs": [
    {
     "name": "stdout",
     "output_type": "stream",
     "text": [
      "RT @emergenciescat: Què puc fer i que no? FAQs del #coronavirus a 14 de març. si us plau, demanem difusió. https://t.co/D5HNxwYjwK\n"
     ]
    }
   ],
   "source": [
    "print(messages[5077])"
   ]
  },
  {
   "cell_type": "markdown",
   "metadata": {},
   "source": [
    "This message has the most full matches (175) and it has 0 partial matches. It could be because the message asks for diffusion, those that have copied and retweeted it have done so literally."
   ]
  },
  {
   "cell_type": "code",
   "execution_count": 26,
   "metadata": {},
   "outputs": [
    {
     "name": "stdout",
     "output_type": "stream",
     "text": [
      "PROCICAT_CORONAVIRUS. El @govern de la @gencat anuncia el #confinament de tot Catalunya. Davant l’emergència de la #COVID19, el missatge és clau: limitar la mobilitat ajudarà a evitar la propagació del #coronavirus. Evitem desplaçaments i reduïm la vida social #JoEmQuedoACasa\n"
     ]
    }
   ],
   "source": [
    "print(messages[627])"
   ]
  },
  {
   "cell_type": "markdown",
   "metadata": {},
   "source": [
    "This message has the most partial matches (66) and it has 0 full matches. It could be because it contains some hastags so these could appear in other tweets."
   ]
  },
  {
   "cell_type": "markdown",
   "metadata": {},
   "source": [
    "<font size=\"+2\" color=\"#003300\">I hereby declare that, except for the code provided by the course instructors, all of my code, report, and figures were produced by myself.</font>"
   ]
  }
 ],
 "metadata": {
  "kernelspec": {
   "display_name": "Python 3",
   "language": "python",
   "name": "python3"
  },
  "language_info": {
   "codemirror_mode": {
    "name": "ipython",
    "version": 3
   },
   "file_extension": ".py",
   "mimetype": "text/x-python",
   "name": "python",
   "nbconvert_exporter": "python",
   "pygments_lexer": "ipython3",
   "version": "3.7.6"
  }
 },
 "nbformat": 4,
 "nbformat_minor": 2
}
