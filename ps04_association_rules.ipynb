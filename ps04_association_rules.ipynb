{
 "cells": [
  {
   "cell_type": "markdown",
   "metadata": {},
   "source": [
    "# Practice Session 04: Basket analysis"
   ]
  },
  {
   "cell_type": "markdown",
   "metadata": {},
   "source": [
    "Author: <font color=\"blue\">Leticia Martin Cabrera</font>\n",
    "\n",
    "E-mail: <font color=\"blue\">leticia.martin03@estudiant.upf.edu</font>\n",
    "\n",
    "Date: <font color=\"blue\">03/11/2021</font>"
   ]
  },
  {
   "cell_type": "code",
   "execution_count": 203,
   "metadata": {},
   "outputs": [
    {
     "name": "stdout",
     "output_type": "stream",
     "text": [
      "Requirement already satisfied: apyori in c:\\users\\letic\\anaconda3\\lib\\site-packages (1.1.2)\n",
      "Note: you may need to restart the kernel to use updated packages.\n"
     ]
    }
   ],
   "source": [
    "pip install apyori"
   ]
  },
  {
   "cell_type": "code",
   "execution_count": 204,
   "metadata": {},
   "outputs": [],
   "source": [
    "import numpy as np  \n",
    "import matplotlib.pyplot as plt  \n",
    "import pandas as pd  \n",
    "from apyori import apriori"
   ]
  },
  {
   "cell_type": "markdown",
   "metadata": {},
   "source": [
    "# 1. Playing with apyori"
   ]
  },
  {
   "cell_type": "code",
   "execution_count": 205,
   "metadata": {},
   "outputs": [
    {
     "data": {
      "text/plain": [
       "[RelationRecord(items=frozenset({'WhatsApp', 'Instagram'}), support=0.35, ordered_statistics=[OrderedStatistic(items_base=frozenset({'Instagram'}), items_add=frozenset({'WhatsApp'}), confidence=0.7777777777777777, lift=1.111111111111111)]),\n",
       " RelationRecord(items=frozenset({'Facebook', 'WhatsApp', 'Instagram'}), support=0.2, ordered_statistics=[OrderedStatistic(items_base=frozenset({'Facebook', 'Instagram'}), items_add=frozenset({'WhatsApp'}), confidence=1.0, lift=1.4285714285714286)])]"
      ]
     },
     "execution_count": 205,
     "metadata": {},
     "output_type": "execute_result"
    }
   ],
   "source": [
    "#This example contains 20 samples of the social media of the people use.\n",
    "social_media = [\n",
    "    ['Facebook', 'Instagram', 'Twitter', 'Linkedin', 'WhatsApp'],\n",
    "    ['Facebook', 'Instagram', 'WhatsApp'],\n",
    "    ['Instagram', 'Twitter', 'WhatsApp'],\n",
    "    ['Linkedin','WhatsApp'],\n",
    "    ['Facebook','Twitter','WhatsApp'],\n",
    "    ['Facebook', 'Linkedin'],\n",
    "    ['Facebook', 'Twitter', 'Linkedin'],\n",
    "    ['Facebook','Linkedin','WhatsApp'],\n",
    "    ['Instagram','Twitter', 'Linkedin'],\n",
    "    ['WhatsApp'],\n",
    "    ['Instagram','WhatsApp'],\n",
    "    ['Facebook', 'Twitter'],\n",
    "    ['Facebook','Instagram', 'Twitter','WhatsApp'],\n",
    "    ['Facebook','WhatsApp'],\n",
    "    ['Twitter','WhatsApp'],\n",
    "    ['Instagram','Twitter' ],\n",
    "    ['Instagram','Twitter','Linkedin','WhatsApp'],\n",
    "    ['Facebook'],\n",
    "    ['Facebook','Twitter','Linkedin','WhatsApp'],\n",
    "    ['Facebook','Instagram','Linkedin','WhatsApp']\n",
    "]\n",
    "\n",
    "results = list(apriori(social_media, min_support=0.2, min_confidence=0.75, min_lift=1.0))\n",
    "results"
   ]
  },
  {
   "cell_type": "code",
   "execution_count": 206,
   "metadata": {},
   "outputs": [],
   "source": [
    "# Leave this code as-is\n",
    "\n",
    "def print_apyori_output (association_results):\n",
    "    for relation_record in association_results:\n",
    "        itemset = list(relation_record.items)\n",
    "        \n",
    "        # Consider only itemsets of two elements\n",
    "        if len(itemset) > 1: \n",
    "        \n",
    "            print(\"Rules involving itemset %s\" % itemset)\n",
    "            support = relation_record.support\n",
    "\n",
    "            for rules in relation_record.ordered_statistics:\n",
    "                antecedent = list(rules.items_base)\n",
    "                consequent = list(rules.items_add)\n",
    "                confidence = rules.confidence\n",
    "                lift = rules.lift\n",
    "\n",
    "                print(\"%s => %s (support=%.2f, confidence=%.2f, lift=%.2f)\" %\n",
    "                      (antecedent, consequent, support, confidence, lift))\n",
    "            print()"
   ]
  },
  {
   "cell_type": "code",
   "execution_count": 207,
   "metadata": {},
   "outputs": [
    {
     "name": "stdout",
     "output_type": "stream",
     "text": [
      "Rules involving itemset ['WhatsApp', 'Instagram']\n",
      "['Instagram'] => ['WhatsApp'] (support=0.35, confidence=0.78, lift=1.11)\n",
      "\n",
      "Rules involving itemset ['Facebook', 'WhatsApp', 'Instagram']\n",
      "['Facebook', 'Instagram'] => ['WhatsApp'] (support=0.20, confidence=1.00, lift=1.43)\n",
      "\n"
     ]
    }
   ],
   "source": [
    "print_apyori_output(results)"
   ]
  },
  {
   "cell_type": "markdown",
   "metadata": {},
   "source": [
    "I have obtained 2 different rules involving the itemset **['WhatsApp', 'Instagram']** and the itemset **['Facebook', 'WhatsApp', 'Instagram']**.\n",
    "\n",
    "In the first rule we have obtained a support of 0.35, a confidence of 0.78 and a lift of 1.11. Now, we explain how calculate it."
   ]
  },
  {
   "cell_type": "code",
   "execution_count": 208,
   "metadata": {},
   "outputs": [
    {
     "name": "stdout",
     "output_type": "stream",
     "text": [
      "The support of Instagram and WhatsApp is 0.35\n",
      "The confidence of Instagram and WhatsApp is 0.78\n",
      "The lift of Instagram and WhatsApp is 1.11\n"
     ]
    }
   ],
   "source": [
    "A = 'Instagram' #item A\n",
    "B = 'WhatsApp'  #item B\n",
    "\n",
    "#SUPPORT\n",
    "\"\"\"To calculate the support, we divide the number of transactions containing Instagram an WhatsApp \n",
    "by the total number of transactions\"\"\"\n",
    "\n",
    "transactions_A_B = 0 #total number of transactions containing Instagram and WhatsApp\n",
    "total_transactions = len(social_media)\n",
    "for i in social_media:\n",
    "    if (A in i)  and (B in i): #transaction i contains Instagram and WhatsApp\n",
    "        transactions_A_B += 1 \n",
    "\n",
    "support = transactions_A_B/total_transactions\n",
    "print(\"The support of Instagram and WhatsApp is\", support)\n",
    "\n",
    "\n",
    "#CONFIDENCE\n",
    "\"\"\"In order to calculate the level of confidence, find the number of transactions in which Instagram and WhatsApp \n",
    "are bought together, divided by the number of transactions in which Instagram is bought.\"\"\"\n",
    "transactions_A = 0 #total number of transactions containing Instagram\n",
    "for i in social_media:\n",
    "    if A in i: #transaction i contains Instagram \n",
    "        transactions_A += 1 \n",
    "confidence = transactions_A_B/transactions_A\n",
    "print(\"The confidence of Instagram and WhatsApp is\", \"{:.2f}\".format(confidence))\n",
    "\n",
    "\n",
    "#LIFT\n",
    "\"\"\"Lift(Instagram –> WhatsApp) can be calculated by dividing Confidence(Instagram -> WhatsApp) by Support(WhatsApp)\"\"\"\n",
    "\n",
    "#calculate the support of WhatsApp\n",
    "transactions_B = 0 #total number of transactions containing WhatsApp\n",
    "for i in social_media:\n",
    "    if B in i: #transaction i contains WhatsApp\n",
    "        transactions_B += 1\n",
    "support_B = transactions_B/total_transactions #support of WhatsApp\n",
    "\n",
    "lift = confidence/support_B #lift (Instagram –> WhatsApp)\n",
    "print(\"The lift of Instagram and WhatsApp is\", \"{:.2f}\".format(lift))"
   ]
  },
  {
   "cell_type": "markdown",
   "metadata": {},
   "source": [
    "In the second rule we have obtained a support of 0.2, a confidence of 1.00 and a lift of 1.43. We calculate it as the same way of above."
   ]
  },
  {
   "cell_type": "code",
   "execution_count": 209,
   "metadata": {},
   "outputs": [
    {
     "name": "stdout",
     "output_type": "stream",
     "text": [
      "The support of Facebook,Instagram and WhatsApp is 0.2\n",
      "The confidence of Facebook,Instagram and WhatsApp is 1.00\n",
      "The lift of Instagram and WhatsApp is 1.43\n"
     ]
    }
   ],
   "source": [
    "A = 'Facebook'  #item A\n",
    "B = 'Instagram' #item B\n",
    "C = 'WhatsApp'  #item c\n",
    " \n",
    "#SUPPORT\n",
    "\"\"\"To calculate the support, we divide the number of transactions containing Facebook,Instagram an WhatsApp \n",
    "by the total number of transactions\"\"\"\n",
    "\n",
    "transactions_A_B_C = 0 #total number of transactions containing Instagram and WhatsApp\n",
    "total_transactions = len(social_media)\n",
    "for i in social_media:\n",
    "    if (A in i)  and (B in i) and (C in i): #transaction i contains Facebook, Instagram and WhatsApp\n",
    "        transactions_A_B_C += 1 \n",
    "\n",
    "support = transactions_A_B_C/total_transactions\n",
    "print(\"The support of Facebook,Instagram and WhatsApp is\", support)\n",
    "\n",
    "\n",
    "#CONFIDENCE\n",
    "\"\"\"In order to calculate the level of confidence, find the number of transactions in which Facebook,Instagram and WhatsApp \n",
    "are bought together, divided by the number of transactions in which Facebook and Instagram  is bought.\"\"\"\n",
    "transactions_A_B = 0 #total number of transactions containing Facebook and Instagram \n",
    "for i in social_media:\n",
    "    if (A in i)  and (B in i): #transaction i contains Instagram \n",
    "        transactions_A_B+= 1 \n",
    "confidence = transactions_A_B_C/transactions_A_B\n",
    "print(\"The confidence of Facebook,Instagram and WhatsApp is\", \"{:.2f}\".format(confidence))\n",
    "\n",
    "\n",
    "#LIFT\n",
    "\"\"\"Lift(Facebook and Instagram –> WhatsApp) can be calculated by dividing \n",
    "Confidence(Facebook and Instagram -> WhatsApp) by Support(WhatsApp)\"\"\"\n",
    "\n",
    "#calculate the support of WhatsApp\n",
    "transactions_C = 0 #total number of transactions containing WhatsApp\n",
    "for i in social_media:\n",
    "    if C in i: #transaction i contains WhatsApp \n",
    "        transactions_C += 1\n",
    "support_C = transactions_C/total_transactions #support of WhatsApp\n",
    "\n",
    "lift = confidence/support_C #lift (Instagram –> WhatsApp)\n",
    "print(\"The lift of Instagram and WhatsApp is\", \"{:.2f}\".format(lift))"
   ]
  },
  {
   "cell_type": "markdown",
   "metadata": {},
   "source": [
    "# 2. Load and prepare the services purchased dataset"
   ]
  },
  {
   "cell_type": "code",
   "execution_count": 210,
   "metadata": {},
   "outputs": [],
   "source": [
    "INPUT_FILENAME = \"data/services_purchased.csv\""
   ]
  },
  {
   "cell_type": "code",
   "execution_count": 211,
   "metadata": {},
   "outputs": [
    {
     "data": {
      "text/html": [
       "<div>\n",
       "<style scoped>\n",
       "    .dataframe tbody tr th:only-of-type {\n",
       "        vertical-align: middle;\n",
       "    }\n",
       "\n",
       "    .dataframe tbody tr th {\n",
       "        vertical-align: top;\n",
       "    }\n",
       "\n",
       "    .dataframe thead th {\n",
       "        text-align: right;\n",
       "    }\n",
       "</style>\n",
       "<table border=\"1\" class=\"dataframe\">\n",
       "  <thead>\n",
       "    <tr style=\"text-align: right;\">\n",
       "      <th></th>\n",
       "      <th>ID_customer</th>\n",
       "      <th>WEBHOSTING</th>\n",
       "      <th>OFFICESUITE</th>\n",
       "      <th>SECURITY</th>\n",
       "      <th>CLOUD_IAAS</th>\n",
       "      <th>CLOUD_PAAS</th>\n",
       "      <th>CONTENTMGM</th>\n",
       "      <th>CHATBOT</th>\n",
       "      <th>ADVERTISING</th>\n",
       "    </tr>\n",
       "  </thead>\n",
       "  <tbody>\n",
       "    <tr>\n",
       "      <th>0</th>\n",
       "      <td>0</td>\n",
       "      <td>0</td>\n",
       "      <td>0</td>\n",
       "      <td>1</td>\n",
       "      <td>0</td>\n",
       "      <td>0</td>\n",
       "      <td>0</td>\n",
       "      <td>0</td>\n",
       "      <td>0</td>\n",
       "    </tr>\n",
       "    <tr>\n",
       "      <th>1</th>\n",
       "      <td>1</td>\n",
       "      <td>0</td>\n",
       "      <td>1</td>\n",
       "      <td>1</td>\n",
       "      <td>0</td>\n",
       "      <td>0</td>\n",
       "      <td>0</td>\n",
       "      <td>0</td>\n",
       "      <td>0</td>\n",
       "    </tr>\n",
       "    <tr>\n",
       "      <th>2</th>\n",
       "      <td>2</td>\n",
       "      <td>1</td>\n",
       "      <td>0</td>\n",
       "      <td>1</td>\n",
       "      <td>0</td>\n",
       "      <td>0</td>\n",
       "      <td>1</td>\n",
       "      <td>0</td>\n",
       "      <td>0</td>\n",
       "    </tr>\n",
       "    <tr>\n",
       "      <th>3</th>\n",
       "      <td>3</td>\n",
       "      <td>0</td>\n",
       "      <td>0</td>\n",
       "      <td>1</td>\n",
       "      <td>0</td>\n",
       "      <td>0</td>\n",
       "      <td>0</td>\n",
       "      <td>0</td>\n",
       "      <td>0</td>\n",
       "    </tr>\n",
       "    <tr>\n",
       "      <th>4</th>\n",
       "      <td>4</td>\n",
       "      <td>1</td>\n",
       "      <td>1</td>\n",
       "      <td>1</td>\n",
       "      <td>0</td>\n",
       "      <td>0</td>\n",
       "      <td>1</td>\n",
       "      <td>0</td>\n",
       "      <td>0</td>\n",
       "    </tr>\n",
       "  </tbody>\n",
       "</table>\n",
       "</div>"
      ],
      "text/plain": [
       "   ID_customer  WEBHOSTING  OFFICESUITE  SECURITY  CLOUD_IAAS  CLOUD_PAAS  \\\n",
       "0            0           0            0         1           0           0   \n",
       "1            1           0            1         1           0           0   \n",
       "2            2           1            0         1           0           0   \n",
       "3            3           0            0         1           0           0   \n",
       "4            4           1            1         1           0           0   \n",
       "\n",
       "   CONTENTMGM  CHATBOT  ADVERTISING  \n",
       "0           0        0            0  \n",
       "1           0        0            0  \n",
       "2           1        0            0  \n",
       "3           0        0            0  \n",
       "4           1        0            0  "
      ]
     },
     "execution_count": 211,
     "metadata": {},
     "output_type": "execute_result"
    }
   ],
   "source": [
    "dataset = pd.read_csv(INPUT_FILENAME, sep=\",\")\n",
    "dataset.head()"
   ]
  },
  {
   "cell_type": "code",
   "execution_count": 212,
   "metadata": {},
   "outputs": [
    {
     "name": "stdout",
     "output_type": "stream",
     "text": [
      "WEBHOSTING : 274\n",
      "OFFICESUITE : 176\n",
      "SECURITY : 608\n",
      "CLOUD_IAAS : 67\n",
      "CLOUD_PAAS : 6\n",
      "CONTENTMGM : 152\n",
      "CHATBOT : 0\n",
      "ADVERTISING : 9\n"
     ]
    }
   ],
   "source": [
    "for service in dataset.iloc[:,1:,]:\n",
    "    print(service,\":\", np.sum(dataset[service]))\n",
    "    "
   ]
  },
  {
   "cell_type": "code",
   "execution_count": 213,
   "metadata": {},
   "outputs": [
    {
     "name": "stdout",
     "output_type": "stream",
     "text": [
      "The number of columns after removing the ID_customer column is: 8\n"
     ]
    }
   ],
   "source": [
    "dataset= dataset.drop(labels=\"ID_customer\", axis=1)\n",
    "shape= dataset.shape\n",
    "print(\"The number of columns after removing the ID_customer column is:\", shape[1])"
   ]
  },
  {
   "cell_type": "code",
   "execution_count": 214,
   "metadata": {},
   "outputs": [
    {
     "name": "stdout",
     "output_type": "stream",
     "text": [
      "The number of rows after removing all customers that have not purchased any service is: 753\n"
     ]
    },
    {
     "data": {
      "text/html": [
       "<div>\n",
       "<style scoped>\n",
       "    .dataframe tbody tr th:only-of-type {\n",
       "        vertical-align: middle;\n",
       "    }\n",
       "\n",
       "    .dataframe tbody tr th {\n",
       "        vertical-align: top;\n",
       "    }\n",
       "\n",
       "    .dataframe thead th {\n",
       "        text-align: right;\n",
       "    }\n",
       "</style>\n",
       "<table border=\"1\" class=\"dataframe\">\n",
       "  <thead>\n",
       "    <tr style=\"text-align: right;\">\n",
       "      <th></th>\n",
       "      <th>WEBHOSTING</th>\n",
       "      <th>OFFICESUITE</th>\n",
       "      <th>SECURITY</th>\n",
       "      <th>CLOUD_IAAS</th>\n",
       "      <th>CLOUD_PAAS</th>\n",
       "      <th>CONTENTMGM</th>\n",
       "      <th>CHATBOT</th>\n",
       "      <th>ADVERTISING</th>\n",
       "    </tr>\n",
       "  </thead>\n",
       "  <tbody>\n",
       "    <tr>\n",
       "      <th>0</th>\n",
       "      <td>0</td>\n",
       "      <td>0</td>\n",
       "      <td>1</td>\n",
       "      <td>0</td>\n",
       "      <td>0</td>\n",
       "      <td>0</td>\n",
       "      <td>0</td>\n",
       "      <td>0</td>\n",
       "    </tr>\n",
       "    <tr>\n",
       "      <th>1</th>\n",
       "      <td>0</td>\n",
       "      <td>1</td>\n",
       "      <td>1</td>\n",
       "      <td>0</td>\n",
       "      <td>0</td>\n",
       "      <td>0</td>\n",
       "      <td>0</td>\n",
       "      <td>0</td>\n",
       "    </tr>\n",
       "    <tr>\n",
       "      <th>2</th>\n",
       "      <td>1</td>\n",
       "      <td>0</td>\n",
       "      <td>1</td>\n",
       "      <td>0</td>\n",
       "      <td>0</td>\n",
       "      <td>1</td>\n",
       "      <td>0</td>\n",
       "      <td>0</td>\n",
       "    </tr>\n",
       "    <tr>\n",
       "      <th>3</th>\n",
       "      <td>0</td>\n",
       "      <td>0</td>\n",
       "      <td>1</td>\n",
       "      <td>0</td>\n",
       "      <td>0</td>\n",
       "      <td>0</td>\n",
       "      <td>0</td>\n",
       "      <td>0</td>\n",
       "    </tr>\n",
       "    <tr>\n",
       "      <th>4</th>\n",
       "      <td>1</td>\n",
       "      <td>1</td>\n",
       "      <td>1</td>\n",
       "      <td>0</td>\n",
       "      <td>0</td>\n",
       "      <td>1</td>\n",
       "      <td>0</td>\n",
       "      <td>0</td>\n",
       "    </tr>\n",
       "    <tr>\n",
       "      <th>...</th>\n",
       "      <td>...</td>\n",
       "      <td>...</td>\n",
       "      <td>...</td>\n",
       "      <td>...</td>\n",
       "      <td>...</td>\n",
       "      <td>...</td>\n",
       "      <td>...</td>\n",
       "      <td>...</td>\n",
       "    </tr>\n",
       "    <tr>\n",
       "      <th>993</th>\n",
       "      <td>0</td>\n",
       "      <td>0</td>\n",
       "      <td>1</td>\n",
       "      <td>0</td>\n",
       "      <td>0</td>\n",
       "      <td>0</td>\n",
       "      <td>0</td>\n",
       "      <td>0</td>\n",
       "    </tr>\n",
       "    <tr>\n",
       "      <th>994</th>\n",
       "      <td>0</td>\n",
       "      <td>0</td>\n",
       "      <td>1</td>\n",
       "      <td>0</td>\n",
       "      <td>0</td>\n",
       "      <td>0</td>\n",
       "      <td>0</td>\n",
       "      <td>0</td>\n",
       "    </tr>\n",
       "    <tr>\n",
       "      <th>995</th>\n",
       "      <td>0</td>\n",
       "      <td>0</td>\n",
       "      <td>1</td>\n",
       "      <td>0</td>\n",
       "      <td>0</td>\n",
       "      <td>0</td>\n",
       "      <td>0</td>\n",
       "      <td>0</td>\n",
       "    </tr>\n",
       "    <tr>\n",
       "      <th>998</th>\n",
       "      <td>1</td>\n",
       "      <td>0</td>\n",
       "      <td>1</td>\n",
       "      <td>0</td>\n",
       "      <td>0</td>\n",
       "      <td>0</td>\n",
       "      <td>0</td>\n",
       "      <td>0</td>\n",
       "    </tr>\n",
       "    <tr>\n",
       "      <th>999</th>\n",
       "      <td>1</td>\n",
       "      <td>0</td>\n",
       "      <td>0</td>\n",
       "      <td>0</td>\n",
       "      <td>0</td>\n",
       "      <td>0</td>\n",
       "      <td>0</td>\n",
       "      <td>0</td>\n",
       "    </tr>\n",
       "  </tbody>\n",
       "</table>\n",
       "<p>753 rows × 8 columns</p>\n",
       "</div>"
      ],
      "text/plain": [
       "     WEBHOSTING  OFFICESUITE  SECURITY  CLOUD_IAAS  CLOUD_PAAS  CONTENTMGM  \\\n",
       "0             0            0         1           0           0           0   \n",
       "1             0            1         1           0           0           0   \n",
       "2             1            0         1           0           0           1   \n",
       "3             0            0         1           0           0           0   \n",
       "4             1            1         1           0           0           1   \n",
       "..          ...          ...       ...         ...         ...         ...   \n",
       "993           0            0         1           0           0           0   \n",
       "994           0            0         1           0           0           0   \n",
       "995           0            0         1           0           0           0   \n",
       "998           1            0         1           0           0           0   \n",
       "999           1            0         0           0           0           0   \n",
       "\n",
       "     CHATBOT  ADVERTISING  \n",
       "0          0            0  \n",
       "1          0            0  \n",
       "2          0            0  \n",
       "3          0            0  \n",
       "4          0            0  \n",
       "..       ...          ...  \n",
       "993        0            0  \n",
       "994        0            0  \n",
       "995        0            0  \n",
       "998        0            0  \n",
       "999        0            0  \n",
       "\n",
       "[753 rows x 8 columns]"
      ]
     },
     "execution_count": 214,
     "metadata": {},
     "output_type": "execute_result"
    }
   ],
   "source": [
    "dataset =dataset.loc[(dataset!=0).any(axis=1)]\n",
    "shape= dataset.shape\n",
    "print(\"The number of rows after removing all customers that have not purchased any service is:\", shape[0])"
   ]
  },
  {
   "cell_type": "code",
   "execution_count": 215,
   "metadata": {},
   "outputs": [
    {
     "data": {
      "text/plain": [
       "[['SECURITY'],\n",
       " ['OFFICESUITE', 'SECURITY'],\n",
       " ['WEBHOSTING', 'SECURITY', 'CONTENTMGM'],\n",
       " ['SECURITY'],\n",
       " ['WEBHOSTING', 'OFFICESUITE', 'SECURITY', 'CONTENTMGM']]"
      ]
     },
     "execution_count": 215,
     "metadata": {},
     "output_type": "execute_result"
    }
   ],
   "source": [
    "transactions = []\n",
    "for recordnum, record in dataset.iterrows():\n",
    "    transaction = [] #elements of the transactions varieble \n",
    "    for column in dataset.columns:\n",
    "        if dataset[column][recordnum]:\n",
    "            transaction.append(column) #adding the service to a new element in the transactions list \n",
    "    transactions.append(transaction) #adding new elements to the transactions variable\n",
    "\n",
    "transactions[:5] #checking the first five elements \n"
   ]
  },
  {
   "cell_type": "markdown",
   "metadata": {},
   "source": [
    "# 3. Run the Apriori algorithm"
   ]
  },
  {
   "cell_type": "code",
   "execution_count": 216,
   "metadata": {},
   "outputs": [
    {
     "name": "stdout",
     "output_type": "stream",
     "text": [
      "Rules involving itemset ['SECURITY', 'WEBHOSTING']\n",
      "[] => ['SECURITY', 'WEBHOSTING'] (support=0.25, confidence=0.25, lift=1.00)\n",
      "['SECURITY'] => ['WEBHOSTING'] (support=0.25, confidence=0.31, lift=0.86)\n",
      "['WEBHOSTING'] => ['SECURITY'] (support=0.25, confidence=0.70, lift=0.86)\n",
      "\n"
     ]
    }
   ],
   "source": [
    "#High-Support rules\n",
    "results1 = apriori(transactions, min_support= 0.25, min_confidence = 0.25, min_lift = 0.85)\n",
    "print_apyori_output(results1)\n"
   ]
  },
  {
   "cell_type": "markdown",
   "metadata": {},
   "source": [
    "The highest support value to get more than 1 rule is 0.25. I have obtained 3 rules involving the itemset ['WEBHOSTING', 'SECURITY'].  \n",
    "\n",
    "The 1st rule [] => ['WEBHOSTING', 'SECURITY'] has a lift of 1.00 so it indicates that there is no association between [] and ['WEBHOSTING', 'SECURITY']. \n",
    "\n",
    "The 2nd rule ['SECURITY'] => ['WEBHOSTING']:\n",
    "    - It has  a lift of 0.86 which indicates that these two products are unlikely to be bought together. \n",
    "    - It has confidence of 0.35 which means that it is unlikely that a Web Hosting product will be also purchased if Security product is purchased.\n",
    "\n",
    "The 3rd rule ['WEBHOSTING'] => ['SECURITY']:\n",
    "    - It has the same lif as the 2nd rule so these two products are unlikely to be bought together\n",
    "    - It has a higher confidence, which means that if a Web hosting product is purchased, it is more likely that a Security product will also be purchased."
   ]
  },
  {
   "cell_type": "code",
   "execution_count": 217,
   "metadata": {},
   "outputs": [
    {
     "name": "stdout",
     "output_type": "stream",
     "text": [
      "Rules involving itemset ['SECURITY', 'CONTENTMGM']\n",
      "['CONTENTMGM'] => ['SECURITY'] (support=0.18, confidence=0.91, lift=1.12)\n",
      "['SECURITY'] => ['CONTENTMGM'] (support=0.18, confidence=0.23, lift=1.12)\n",
      "\n"
     ]
    }
   ],
   "source": [
    "#High-lift rules\n",
    "results2 = apriori(transactions, min_support= 0.15, min_confidence= 0.2, min_lift = 1.12)\n",
    "print_apyori_output(results2)\n"
   ]
  },
  {
   "cell_type": "markdown",
   "metadata": {},
   "source": [
    "With a vule of lift of 1.12, I could get more than 1 rule for the itemsets ['SECURITY', 'CONTENTMGM']:\n",
    "\n",
    "The 1st rule ['CONTENTMGM'] => ['SECURITY']:\n",
    "    - It has a confidence of 0.91 means that if the Content Management product is purchased, there is a 91% probability that Security will also be purchased.\n",
    "    - It has a lift of 1.12 indicates that Security and Content management products have a higher probability to be purchased together.\n",
    "\n",
    "The 2nd rule ['SECURITY'] => ['CONTENTMGM']:\n",
    "    - It has the same lift as the 1st rule so Security and Content management products have a higher probability to be purchased together.\n",
    "    - It has a lower confidence, showing to us that if the securty product is purchased, there is a few probabilities, 23%,  that Content Management product will also be purchased\n",
    "\n"
   ]
  },
  {
   "cell_type": "code",
   "execution_count": 223,
   "metadata": {},
   "outputs": [
    {
     "name": "stdout",
     "output_type": "stream",
     "text": [
      "Rules involving itemset ['SECURITY', 'OFFICESUITE']\n",
      "[] => ['SECURITY', 'OFFICESUITE'] (support=0.24, confidence=0.24, lift=1.00)\n",
      "['OFFICESUITE'] => ['SECURITY'] (support=0.24, confidence=0.82, lift=0.90)\n",
      "['SECURITY'] => ['OFFICESUITE'] (support=0.24, confidence=0.26, lift=0.90)\n",
      "\n",
      "Rules involving itemset ['SECURITY', 'WEBHOSTING']\n",
      "[] => ['SECURITY', 'WEBHOSTING'] (support=0.34, confidence=0.34, lift=1.00)\n",
      "['SECURITY'] => ['WEBHOSTING'] (support=0.34, confidence=0.37, lift=1.02)\n",
      "['WEBHOSTING'] => ['SECURITY'] (support=0.34, confidence=0.93, lift=1.02)\n",
      "\n"
     ]
    }
   ],
   "source": [
    "dataset1 = dataset.loc[dataset.CONTENTMGM != 0] #new dataset containing the customers that purchase CONTENTMGM\n",
    "dataset1 = dataset1.drop(\"CONTENTMGM\",axis=1)   #removing the CONTENTMGM column of our new dataset\n",
    "\n",
    "#create the \"transactions\" list from the dataset1\n",
    "transactions1 = []\n",
    "for recordnum, record in dataset1.iterrows():\n",
    "    transaction = [] #elements of the transactions varieble \n",
    "    for column in dataset1.columns:\n",
    "        if dataset1[column][recordnum]:\n",
    "            transaction.append(column) #adding the service to a new element in the transactions list \n",
    "    transactions1.append(transaction) #adding new elements to the transactions variable\n",
    "\n",
    "results3 = apriori(transactions1)\n",
    "print_apyori_output(results3)"
   ]
  },
  {
   "cell_type": "markdown",
   "metadata": {},
   "source": [
    "We can reject the rules involving itemset ['SECURITY', 'OFFICESUITE'] since these have a low confidence value( 1st and 3rd rule) and also the second rule has a lif value less than 1 so it is unlikely that office suite and security products are purchased together. \n",
    "\n",
    "Observing the rule ['WEBHOSTING'] => ['SECURITY'] we can suppose that the customers of the product Content MGM will buy Security services if they buy Web Hosting services. Since the lift value is greater than 1 and the confidence value is nearly 1. There is a 93% probability that Security service will also be purchased ."
   ]
  },
  {
   "cell_type": "code",
   "execution_count": 225,
   "metadata": {},
   "outputs": [
    {
     "name": "stdout",
     "output_type": "stream",
     "text": [
      "Rules involving itemset ['SECURITY', 'CONTENTMGM']\n",
      "['CONTENTMGM'] => ['SECURITY'] (support=0.19, confidence=0.93, lift=1.33)\n",
      "['SECURITY'] => ['CONTENTMGM'] (support=0.19, confidence=0.27, lift=1.33)\n",
      "\n",
      "Rules involving itemset ['SECURITY', 'OFFICESUITE']\n",
      "['OFFICESUITE'] => ['SECURITY'] (support=0.13, confidence=0.71, lift=1.02)\n",
      "['SECURITY'] => ['OFFICESUITE'] (support=0.13, confidence=0.18, lift=1.02)\n",
      "\n"
     ]
    }
   ],
   "source": [
    "dataset2 = dataset.loc[dataset.WEBHOSTING != 0] #new dataset containing the customers that purchase WEBHOSTING\n",
    "dataset2 = dataset2.drop(\"WEBHOSTING\",axis=1)   #removing the WEBHOSTING column of our new dataset\n",
    "\n",
    "#create the \"transactions\" list from the dataset1\n",
    "transactions2 = []\n",
    "for recordnum, record in dataset2.iterrows():\n",
    "    transaction = [] #elements of the transactions varieble \n",
    "    for column in dataset2.columns:\n",
    "        if dataset2[column][recordnum]:\n",
    "            transaction.append(column) #adding the service to a new element in the transactions list \n",
    "    transactions2.append(transaction) #adding new elements to the transactions variable\n",
    "\n",
    "results4 = apriori(transactions2, min_lift = 1.02)\n",
    "print_apyori_output(results4)"
   ]
  },
  {
   "cell_type": "markdown",
   "metadata": {},
   "source": [
    "We can reject the rules with low confidence value: ['SECURITY'] => ['CONTENTMGM']  and ['SECURITY'] => ['OFFICESUITE'].\n",
    "\n",
    "Observing the rule ['CONTENTMGM'] => ['SECURITY'] we can suppose that the customers of the product Web Hosting will buy Security services if they buy content management solution. Since the lift value is greater than 1 and the confidence value is nearly 1. There is a 93% probability that Security service will also be purchased.\n",
    "\n",
    "Also, observing the rule ['OFFICESUITE'] => ['SECURITY'] we can suppose, with less certainty than with the previous rule, that the customers of the product Web Hosting will buy security services if they buy office suite services. Since the lift value is greater than 1 and the confidence value is high. There is a 71% probability that Security service will also be purchased."
   ]
  },
  {
   "cell_type": "markdown",
   "metadata": {},
   "source": [
    "<font size=\"+2\" color=\"#003300\">I hereby declare that, except for the code provided by the course instructors, all of my code, report, and figures were produced by myself.</font>"
   ]
  }
 ],
 "metadata": {
  "kernelspec": {
   "display_name": "Python 3",
   "language": "python",
   "name": "python3"
  },
  "language_info": {
   "codemirror_mode": {
    "name": "ipython",
    "version": 3
   },
   "file_extension": ".py",
   "mimetype": "text/x-python",
   "name": "python",
   "nbconvert_exporter": "python",
   "pygments_lexer": "ipython3",
   "version": "3.7.6"
  }
 },
 "nbformat": 4,
 "nbformat_minor": 2
}
